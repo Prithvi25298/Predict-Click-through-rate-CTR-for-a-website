{
 "cells": [
  {
   "cell_type": "markdown",
   "id": "c110b076",
   "metadata": {},
   "source": [
    "# Importing the libraries"
   ]
  },
  {
   "cell_type": "code",
   "execution_count": 3,
   "id": "a0e55507",
   "metadata": {},
   "outputs": [],
   "source": [
    "import pandas as pd\n",
    "import numpy as np\n",
    "import matplotlib.pyplot as plt\n",
    "import seaborn as sns"
   ]
  },
  {
   "cell_type": "markdown",
   "id": "1c8920de",
   "metadata": {},
   "source": [
    "# Access the dataset"
   ]
  },
  {
   "cell_type": "code",
   "execution_count": 4,
   "id": "e466d832",
   "metadata": {},
   "outputs": [
    {
     "data": {
      "text/html": [
       "<div>\n",
       "<style scoped>\n",
       "    .dataframe tbody tr th:only-of-type {\n",
       "        vertical-align: middle;\n",
       "    }\n",
       "\n",
       "    .dataframe tbody tr th {\n",
       "        vertical-align: top;\n",
       "    }\n",
       "\n",
       "    .dataframe thead th {\n",
       "        text-align: right;\n",
       "    }\n",
       "</style>\n",
       "<table border=\"1\" class=\"dataframe\">\n",
       "  <thead>\n",
       "    <tr style=\"text-align: right;\">\n",
       "      <th></th>\n",
       "      <th>title_proximity_tfidf</th>\n",
       "      <th>description_proximity_tfidf</th>\n",
       "      <th>main_query_tfidf</th>\n",
       "      <th>query_jl_score</th>\n",
       "      <th>query_title_score</th>\n",
       "      <th>city_match</th>\n",
       "      <th>job_age_days</th>\n",
       "      <th>apply</th>\n",
       "      <th>search_date_pacific</th>\n",
       "      <th>class_id</th>\n",
       "    </tr>\n",
       "  </thead>\n",
       "  <tbody>\n",
       "    <tr>\n",
       "      <th>0</th>\n",
       "      <td>0.000000</td>\n",
       "      <td>0.000000</td>\n",
       "      <td>0.000000</td>\n",
       "      <td>0.004824</td>\n",
       "      <td>0.006628</td>\n",
       "      <td>0.0</td>\n",
       "      <td>5.0</td>\n",
       "      <td>0</td>\n",
       "      <td>2018-01-21</td>\n",
       "      <td>-7613806991329176388</td>\n",
       "    </tr>\n",
       "    <tr>\n",
       "      <th>1</th>\n",
       "      <td>11.874042</td>\n",
       "      <td>0.043637</td>\n",
       "      <td>2.527080</td>\n",
       "      <td>0.011935</td>\n",
       "      <td>0.011208</td>\n",
       "      <td>0.0</td>\n",
       "      <td>5.0</td>\n",
       "      <td>0</td>\n",
       "      <td>2018-01-21</td>\n",
       "      <td>-1361819269400927213</td>\n",
       "    </tr>\n",
       "    <tr>\n",
       "      <th>2</th>\n",
       "      <td>11.874042</td>\n",
       "      <td>0.043637</td>\n",
       "      <td>2.527080</td>\n",
       "      <td>0.011935</td>\n",
       "      <td>0.011208</td>\n",
       "      <td>0.0</td>\n",
       "      <td>5.0</td>\n",
       "      <td>1</td>\n",
       "      <td>2018-01-21</td>\n",
       "      <td>-1361819269400927213</td>\n",
       "    </tr>\n",
       "    <tr>\n",
       "      <th>3</th>\n",
       "      <td>0.000000</td>\n",
       "      <td>0.000000</td>\n",
       "      <td>3.695809</td>\n",
       "      <td>0.013046</td>\n",
       "      <td>0.033340</td>\n",
       "      <td>0.0</td>\n",
       "      <td>5.0</td>\n",
       "      <td>0</td>\n",
       "      <td>2018-01-23</td>\n",
       "      <td>-3623880078591607667</td>\n",
       "    </tr>\n",
       "    <tr>\n",
       "      <th>4</th>\n",
       "      <td>NaN</td>\n",
       "      <td>NaN</td>\n",
       "      <td>7.868900</td>\n",
       "      <td>0.008065</td>\n",
       "      <td>0.008772</td>\n",
       "      <td>0.0</td>\n",
       "      <td>7.0</td>\n",
       "      <td>0</td>\n",
       "      <td>2018-01-24</td>\n",
       "      <td>-7054510112423797411</td>\n",
       "    </tr>\n",
       "  </tbody>\n",
       "</table>\n",
       "</div>"
      ],
      "text/plain": [
       "   title_proximity_tfidf  description_proximity_tfidf  main_query_tfidf  \\\n",
       "0               0.000000                     0.000000          0.000000   \n",
       "1              11.874042                     0.043637          2.527080   \n",
       "2              11.874042                     0.043637          2.527080   \n",
       "3               0.000000                     0.000000          3.695809   \n",
       "4                    NaN                          NaN          7.868900   \n",
       "\n",
       "   query_jl_score  query_title_score  city_match  job_age_days  apply  \\\n",
       "0        0.004824           0.006628         0.0           5.0      0   \n",
       "1        0.011935           0.011208         0.0           5.0      0   \n",
       "2        0.011935           0.011208         0.0           5.0      1   \n",
       "3        0.013046           0.033340         0.0           5.0      0   \n",
       "4        0.008065           0.008772         0.0           7.0      0   \n",
       "\n",
       "  search_date_pacific             class_id  \n",
       "0          2018-01-21 -7613806991329176388  \n",
       "1          2018-01-21 -1361819269400927213  \n",
       "2          2018-01-21 -1361819269400927213  \n",
       "3          2018-01-23 -3623880078591607667  \n",
       "4          2018-01-24 -7054510112423797411  "
      ]
     },
     "execution_count": 4,
     "metadata": {},
     "output_type": "execute_result"
    }
   ],
   "source": [
    "data = pd.read_csv(\"Apply_Rate_2019.csv\")\n",
    "data.head()"
   ]
  },
  {
   "cell_type": "code",
   "execution_count": 5,
   "id": "794fa6ea",
   "metadata": {},
   "outputs": [
    {
     "data": {
      "text/plain": [
       "(1200890, 10)"
      ]
     },
     "execution_count": 5,
     "metadata": {},
     "output_type": "execute_result"
    }
   ],
   "source": [
    "data.shape"
   ]
  },
  {
   "cell_type": "code",
   "execution_count": 6,
   "id": "e778cf0d",
   "metadata": {},
   "outputs": [
    {
     "name": "stdout",
     "output_type": "stream",
     "text": [
      "<class 'pandas.core.frame.DataFrame'>\n",
      "RangeIndex: 1200890 entries, 0 to 1200889\n",
      "Data columns (total 10 columns):\n",
      " #   Column                       Non-Null Count    Dtype  \n",
      "---  ------                       --------------    -----  \n",
      " 0   title_proximity_tfidf        948319 non-null   float64\n",
      " 1   description_proximity_tfidf  948319 non-null   float64\n",
      " 2   main_query_tfidf             1200890 non-null  float64\n",
      " 3   query_jl_score               1200890 non-null  float64\n",
      " 4   query_title_score            1200890 non-null  float64\n",
      " 5   city_match                   944335 non-null   float64\n",
      " 6   job_age_days                 1200890 non-null  float64\n",
      " 7   apply                        1200890 non-null  int64  \n",
      " 8   search_date_pacific          1200890 non-null  object \n",
      " 9   class_id                     1200890 non-null  int64  \n",
      "dtypes: float64(7), int64(2), object(1)\n",
      "memory usage: 91.6+ MB\n"
     ]
    }
   ],
   "source": [
    "data.info()"
   ]
  },
  {
   "cell_type": "code",
   "execution_count": 7,
   "id": "1f2c3c91",
   "metadata": {},
   "outputs": [
    {
     "data": {
      "text/html": [
       "<div>\n",
       "<style scoped>\n",
       "    .dataframe tbody tr th:only-of-type {\n",
       "        vertical-align: middle;\n",
       "    }\n",
       "\n",
       "    .dataframe tbody tr th {\n",
       "        vertical-align: top;\n",
       "    }\n",
       "\n",
       "    .dataframe thead th {\n",
       "        text-align: right;\n",
       "    }\n",
       "</style>\n",
       "<table border=\"1\" class=\"dataframe\">\n",
       "  <thead>\n",
       "    <tr style=\"text-align: right;\">\n",
       "      <th></th>\n",
       "      <th>title_proximity_tfidf</th>\n",
       "      <th>description_proximity_tfidf</th>\n",
       "      <th>main_query_tfidf</th>\n",
       "      <th>query_jl_score</th>\n",
       "      <th>query_title_score</th>\n",
       "      <th>city_match</th>\n",
       "      <th>job_age_days</th>\n",
       "      <th>apply</th>\n",
       "      <th>class_id</th>\n",
       "    </tr>\n",
       "  </thead>\n",
       "  <tbody>\n",
       "    <tr>\n",
       "      <th>count</th>\n",
       "      <td>948319.000000</td>\n",
       "      <td>948319.000000</td>\n",
       "      <td>1.200890e+06</td>\n",
       "      <td>1.200890e+06</td>\n",
       "      <td>1.200890e+06</td>\n",
       "      <td>944335.000000</td>\n",
       "      <td>1.200890e+06</td>\n",
       "      <td>1.200890e+06</td>\n",
       "      <td>1.200890e+06</td>\n",
       "    </tr>\n",
       "    <tr>\n",
       "      <th>mean</th>\n",
       "      <td>5.889800</td>\n",
       "      <td>0.096119</td>\n",
       "      <td>1.770301e+00</td>\n",
       "      <td>1.711024e-02</td>\n",
       "      <td>3.580456e-02</td>\n",
       "      <td>0.563676</td>\n",
       "      <td>1.010130e+01</td>\n",
       "      <td>8.993580e-02</td>\n",
       "      <td>-3.956263e+17</td>\n",
       "    </tr>\n",
       "    <tr>\n",
       "      <th>std</th>\n",
       "      <td>9.749672</td>\n",
       "      <td>0.284249</td>\n",
       "      <td>2.237259e+00</td>\n",
       "      <td>1.220871e-02</td>\n",
       "      <td>4.886690e-02</td>\n",
       "      <td>0.495929</td>\n",
       "      <td>1.738912e+01</td>\n",
       "      <td>2.860899e-01</td>\n",
       "      <td>5.664017e+18</td>\n",
       "    </tr>\n",
       "    <tr>\n",
       "      <th>min</th>\n",
       "      <td>0.000000</td>\n",
       "      <td>0.000000</td>\n",
       "      <td>0.000000e+00</td>\n",
       "      <td>1.000000e-06</td>\n",
       "      <td>9.998021e-07</td>\n",
       "      <td>0.000000</td>\n",
       "      <td>0.000000e+00</td>\n",
       "      <td>0.000000e+00</td>\n",
       "      <td>-9.049388e+18</td>\n",
       "    </tr>\n",
       "    <tr>\n",
       "      <th>25%</th>\n",
       "      <td>0.000000</td>\n",
       "      <td>0.000000</td>\n",
       "      <td>0.000000e+00</td>\n",
       "      <td>1.063830e-02</td>\n",
       "      <td>1.256780e-02</td>\n",
       "      <td>0.000000</td>\n",
       "      <td>2.000000e+00</td>\n",
       "      <td>0.000000e+00</td>\n",
       "      <td>-4.593390e+18</td>\n",
       "    </tr>\n",
       "    <tr>\n",
       "      <th>50%</th>\n",
       "      <td>0.000000</td>\n",
       "      <td>0.000000</td>\n",
       "      <td>2.509947e-01</td>\n",
       "      <td>1.578868e-02</td>\n",
       "      <td>2.066189e-02</td>\n",
       "      <td>1.000000</td>\n",
       "      <td>6.000000e+00</td>\n",
       "      <td>0.000000e+00</td>\n",
       "      <td>-1.614083e+18</td>\n",
       "    </tr>\n",
       "    <tr>\n",
       "      <th>75%</th>\n",
       "      <td>11.642839</td>\n",
       "      <td>0.063633</td>\n",
       "      <td>3.423265e+00</td>\n",
       "      <td>2.043710e-02</td>\n",
       "      <td>3.760018e-02</td>\n",
       "      <td>1.000000</td>\n",
       "      <td>1.400000e+01</td>\n",
       "      <td>0.000000e+00</td>\n",
       "      <td>4.315422e+18</td>\n",
       "    </tr>\n",
       "    <tr>\n",
       "      <th>max</th>\n",
       "      <td>93.516720</td>\n",
       "      <td>7.301161</td>\n",
       "      <td>1.774189e+01</td>\n",
       "      <td>2.556893e-01</td>\n",
       "      <td>1.294088e+00</td>\n",
       "      <td>1.000000</td>\n",
       "      <td>1.340000e+03</td>\n",
       "      <td>1.000000e+00</td>\n",
       "      <td>9.204124e+18</td>\n",
       "    </tr>\n",
       "  </tbody>\n",
       "</table>\n",
       "</div>"
      ],
      "text/plain": [
       "       title_proximity_tfidf  description_proximity_tfidf  main_query_tfidf  \\\n",
       "count          948319.000000                948319.000000      1.200890e+06   \n",
       "mean                5.889800                     0.096119      1.770301e+00   \n",
       "std                 9.749672                     0.284249      2.237259e+00   \n",
       "min                 0.000000                     0.000000      0.000000e+00   \n",
       "25%                 0.000000                     0.000000      0.000000e+00   \n",
       "50%                 0.000000                     0.000000      2.509947e-01   \n",
       "75%                11.642839                     0.063633      3.423265e+00   \n",
       "max                93.516720                     7.301161      1.774189e+01   \n",
       "\n",
       "       query_jl_score  query_title_score     city_match  job_age_days  \\\n",
       "count    1.200890e+06       1.200890e+06  944335.000000  1.200890e+06   \n",
       "mean     1.711024e-02       3.580456e-02       0.563676  1.010130e+01   \n",
       "std      1.220871e-02       4.886690e-02       0.495929  1.738912e+01   \n",
       "min      1.000000e-06       9.998021e-07       0.000000  0.000000e+00   \n",
       "25%      1.063830e-02       1.256780e-02       0.000000  2.000000e+00   \n",
       "50%      1.578868e-02       2.066189e-02       1.000000  6.000000e+00   \n",
       "75%      2.043710e-02       3.760018e-02       1.000000  1.400000e+01   \n",
       "max      2.556893e-01       1.294088e+00       1.000000  1.340000e+03   \n",
       "\n",
       "              apply      class_id  \n",
       "count  1.200890e+06  1.200890e+06  \n",
       "mean   8.993580e-02 -3.956263e+17  \n",
       "std    2.860899e-01  5.664017e+18  \n",
       "min    0.000000e+00 -9.049388e+18  \n",
       "25%    0.000000e+00 -4.593390e+18  \n",
       "50%    0.000000e+00 -1.614083e+18  \n",
       "75%    0.000000e+00  4.315422e+18  \n",
       "max    1.000000e+00  9.204124e+18  "
      ]
     },
     "execution_count": 7,
     "metadata": {},
     "output_type": "execute_result"
    }
   ],
   "source": [
    "data.describe()"
   ]
  },
  {
   "cell_type": "markdown",
   "id": "851b29d4",
   "metadata": {},
   "source": [
    "# Missing Value Treatment"
   ]
  },
  {
   "cell_type": "code",
   "execution_count": 8,
   "id": "a7a95377",
   "metadata": {},
   "outputs": [
    {
     "data": {
      "text/plain": [
       "(1200890, 10)"
      ]
     },
     "execution_count": 8,
     "metadata": {},
     "output_type": "execute_result"
    }
   ],
   "source": [
    "data.shape"
   ]
  },
  {
   "cell_type": "code",
   "execution_count": 9,
   "id": "78d46159",
   "metadata": {},
   "outputs": [
    {
     "data": {
      "text/plain": [
       "title_proximity_tfidf          252571\n",
       "description_proximity_tfidf    252571\n",
       "main_query_tfidf                    0\n",
       "query_jl_score                      0\n",
       "query_title_score                   0\n",
       "city_match                     256555\n",
       "job_age_days                        0\n",
       "apply                               0\n",
       "search_date_pacific                 0\n",
       "class_id                            0\n",
       "dtype: int64"
      ]
     },
     "execution_count": 9,
     "metadata": {},
     "output_type": "execute_result"
    }
   ],
   "source": [
    "data.isnull().sum()"
   ]
  },
  {
   "cell_type": "code",
   "execution_count": 10,
   "id": "d07a0719",
   "metadata": {},
   "outputs": [
    {
     "data": {
      "text/plain": [
       "title_proximity_tfidf          21.0\n",
       "description_proximity_tfidf    21.0\n",
       "city_match                     21.0\n",
       "dtype: float64"
      ]
     },
     "execution_count": 10,
     "metadata": {},
     "output_type": "execute_result"
    }
   ],
   "source": [
    "#percentage of the null value data\n",
    "round(data.loc[:,data.isnull().sum() > 0].isnull().sum()/len(data.index),2) * 100 "
   ]
  },
  {
   "cell_type": "code",
   "execution_count": 11,
   "id": "5a2dcc4d",
   "metadata": {},
   "outputs": [
    {
     "data": {
      "text/plain": [
       "(235328, 10)"
      ]
     },
     "execution_count": 11,
     "metadata": {},
     "output_type": "execute_result"
    }
   ],
   "source": [
    "data[(data[\"title_proximity_tfidf\"].isnull()) & (data[\"apply\"] == 0)].shape"
   ]
  },
  {
   "cell_type": "code",
   "execution_count": 12,
   "id": "ad5771bc",
   "metadata": {},
   "outputs": [
    {
     "data": {
      "text/plain": [
       "0.000000     647042\n",
       "14.939764        21\n",
       "17.811365        19\n",
       "17.493496        15\n",
       "19.385944        15\n",
       "              ...  \n",
       "8.676919          1\n",
       "43.226490         1\n",
       "10.559381         1\n",
       "23.596730         1\n",
       "24.738361         1\n",
       "Name: title_proximity_tfidf, Length: 225538, dtype: int64"
      ]
     },
     "execution_count": 12,
     "metadata": {},
     "output_type": "execute_result"
    }
   ],
   "source": [
    "data[\"title_proximity_tfidf\"].value_counts()"
   ]
  },
  {
   "cell_type": "code",
   "execution_count": 13,
   "id": "558a12fe",
   "metadata": {},
   "outputs": [],
   "source": [
    "#title_proximity_tfidf,closeness of query and job description is closeness of query and job title and closeness of query and job description respectively. most of all are zero we fill missing value are zero \n",
    "data[\"title_proximity_tfidf\"] = data[\"title_proximity_tfidf\"].fillna(0.000000) \n",
    "data[\"description_proximity_tfidf\"] = data[\"description_proximity_tfidf\"].fillna(0.000000) "
   ]
  },
  {
   "cell_type": "code",
   "execution_count": 14,
   "id": "5685e266",
   "metadata": {},
   "outputs": [
    {
     "data": {
      "text/html": [
       "<div>\n",
       "<style scoped>\n",
       "    .dataframe tbody tr th:only-of-type {\n",
       "        vertical-align: middle;\n",
       "    }\n",
       "\n",
       "    .dataframe tbody tr th {\n",
       "        vertical-align: top;\n",
       "    }\n",
       "\n",
       "    .dataframe thead th {\n",
       "        text-align: right;\n",
       "    }\n",
       "</style>\n",
       "<table border=\"1\" class=\"dataframe\">\n",
       "  <thead>\n",
       "    <tr style=\"text-align: right;\">\n",
       "      <th></th>\n",
       "      <th>title_proximity_tfidf</th>\n",
       "      <th>description_proximity_tfidf</th>\n",
       "      <th>main_query_tfidf</th>\n",
       "      <th>query_jl_score</th>\n",
       "      <th>query_title_score</th>\n",
       "      <th>city_match</th>\n",
       "      <th>job_age_days</th>\n",
       "      <th>apply</th>\n",
       "      <th>search_date_pacific</th>\n",
       "      <th>class_id</th>\n",
       "    </tr>\n",
       "  </thead>\n",
       "  <tbody>\n",
       "    <tr>\n",
       "      <th>0</th>\n",
       "      <td>0.000000</td>\n",
       "      <td>0.000000</td>\n",
       "      <td>0.000000</td>\n",
       "      <td>0.004824</td>\n",
       "      <td>0.006628</td>\n",
       "      <td>0.0</td>\n",
       "      <td>5.0</td>\n",
       "      <td>0</td>\n",
       "      <td>2018-01-21</td>\n",
       "      <td>-7613806991329176388</td>\n",
       "    </tr>\n",
       "    <tr>\n",
       "      <th>1</th>\n",
       "      <td>11.874042</td>\n",
       "      <td>0.043637</td>\n",
       "      <td>2.527080</td>\n",
       "      <td>0.011935</td>\n",
       "      <td>0.011208</td>\n",
       "      <td>0.0</td>\n",
       "      <td>5.0</td>\n",
       "      <td>0</td>\n",
       "      <td>2018-01-21</td>\n",
       "      <td>-1361819269400927213</td>\n",
       "    </tr>\n",
       "    <tr>\n",
       "      <th>2</th>\n",
       "      <td>11.874042</td>\n",
       "      <td>0.043637</td>\n",
       "      <td>2.527080</td>\n",
       "      <td>0.011935</td>\n",
       "      <td>0.011208</td>\n",
       "      <td>0.0</td>\n",
       "      <td>5.0</td>\n",
       "      <td>1</td>\n",
       "      <td>2018-01-21</td>\n",
       "      <td>-1361819269400927213</td>\n",
       "    </tr>\n",
       "    <tr>\n",
       "      <th>3</th>\n",
       "      <td>0.000000</td>\n",
       "      <td>0.000000</td>\n",
       "      <td>3.695809</td>\n",
       "      <td>0.013046</td>\n",
       "      <td>0.033340</td>\n",
       "      <td>0.0</td>\n",
       "      <td>5.0</td>\n",
       "      <td>0</td>\n",
       "      <td>2018-01-23</td>\n",
       "      <td>-3623880078591607667</td>\n",
       "    </tr>\n",
       "    <tr>\n",
       "      <th>4</th>\n",
       "      <td>0.000000</td>\n",
       "      <td>0.000000</td>\n",
       "      <td>7.868900</td>\n",
       "      <td>0.008065</td>\n",
       "      <td>0.008772</td>\n",
       "      <td>0.0</td>\n",
       "      <td>7.0</td>\n",
       "      <td>0</td>\n",
       "      <td>2018-01-24</td>\n",
       "      <td>-7054510112423797411</td>\n",
       "    </tr>\n",
       "  </tbody>\n",
       "</table>\n",
       "</div>"
      ],
      "text/plain": [
       "   title_proximity_tfidf  description_proximity_tfidf  main_query_tfidf  \\\n",
       "0               0.000000                     0.000000          0.000000   \n",
       "1              11.874042                     0.043637          2.527080   \n",
       "2              11.874042                     0.043637          2.527080   \n",
       "3               0.000000                     0.000000          3.695809   \n",
       "4               0.000000                     0.000000          7.868900   \n",
       "\n",
       "   query_jl_score  query_title_score  city_match  job_age_days  apply  \\\n",
       "0        0.004824           0.006628         0.0           5.0      0   \n",
       "1        0.011935           0.011208         0.0           5.0      0   \n",
       "2        0.011935           0.011208         0.0           5.0      1   \n",
       "3        0.013046           0.033340         0.0           5.0      0   \n",
       "4        0.008065           0.008772         0.0           7.0      0   \n",
       "\n",
       "  search_date_pacific             class_id  \n",
       "0          2018-01-21 -7613806991329176388  \n",
       "1          2018-01-21 -1361819269400927213  \n",
       "2          2018-01-21 -1361819269400927213  \n",
       "3          2018-01-23 -3623880078591607667  \n",
       "4          2018-01-24 -7054510112423797411  "
      ]
     },
     "execution_count": 14,
     "metadata": {},
     "output_type": "execute_result"
    }
   ],
   "source": [
    "data.head()"
   ]
  },
  {
   "cell_type": "code",
   "execution_count": 15,
   "id": "ff9580d2",
   "metadata": {},
   "outputs": [
    {
     "data": {
      "text/plain": [
       "title_proximity_tfidf               0\n",
       "description_proximity_tfidf         0\n",
       "main_query_tfidf                    0\n",
       "query_jl_score                      0\n",
       "query_title_score                   0\n",
       "city_match                     256555\n",
       "job_age_days                        0\n",
       "apply                               0\n",
       "search_date_pacific                 0\n",
       "class_id                            0\n",
       "dtype: int64"
      ]
     },
     "execution_count": 15,
     "metadata": {},
     "output_type": "execute_result"
    }
   ],
   "source": [
    "data.isnull().sum()"
   ]
  },
  {
   "cell_type": "code",
   "execution_count": 16,
   "id": "3d508df0",
   "metadata": {},
   "outputs": [
    {
     "data": {
      "text/plain": [
       "title_proximity_tfidf               0\n",
       "description_proximity_tfidf         0\n",
       "main_query_tfidf                    0\n",
       "query_jl_score                      0\n",
       "query_title_score                   0\n",
       "city_match                     256555\n",
       "job_age_days                        0\n",
       "apply                               0\n",
       "search_date_pacific                 0\n",
       "class_id                            0\n",
       "dtype: int64"
      ]
     },
     "execution_count": 16,
     "metadata": {},
     "output_type": "execute_result"
    }
   ],
   "source": [
    "data.isnull().sum()"
   ]
  },
  {
   "cell_type": "code",
   "execution_count": 17,
   "id": "54e8e5bc",
   "metadata": {},
   "outputs": [
    {
     "data": {
      "text/plain": [
       "(46946, 10)"
      ]
     },
     "execution_count": 17,
     "metadata": {},
     "output_type": "execute_result"
    }
   ],
   "source": [
    "data[(data[\"city_match\"] == 1) & (data[\"apply\"] == 1)].shape"
   ]
  },
  {
   "cell_type": "code",
   "execution_count": 18,
   "id": "66001a20",
   "metadata": {},
   "outputs": [
    {
     "data": {
      "text/plain": [
       "(376420, 10)"
      ]
     },
     "execution_count": 18,
     "metadata": {},
     "output_type": "execute_result"
    }
   ],
   "source": [
    "data[(data[\"city_match\"] == 0) & (data[\"apply\"] == 0)].shape"
   ]
  },
  {
   "cell_type": "code",
   "execution_count": 19,
   "id": "287758ce",
   "metadata": {},
   "outputs": [],
   "source": [
    "# we can say that most person are apply their city are matched and not city_match are 0\n",
    "data[(data[\"city_match\"].isnull()) & (data[\"apply\"] == 0)] = data[(data[\"city_match\"].isnull()) & (data[\"apply\"] == 0)].fillna(0)"
   ]
  },
  {
   "cell_type": "code",
   "execution_count": 20,
   "id": "9f1463c6",
   "metadata": {},
   "outputs": [],
   "source": [
    "data[(data[\"city_match\"].isnull()) & (data[\"apply\"] == 1)] = data[(data[\"city_match\"].isnull()) & (data[\"apply\"] == 1)].fillna(1)"
   ]
  },
  {
   "cell_type": "code",
   "execution_count": 21,
   "id": "04ebb2ec",
   "metadata": {},
   "outputs": [
    {
     "data": {
      "text/plain": [
       "0.0    643150\n",
       "1.0    557740\n",
       "Name: city_match, dtype: int64"
      ]
     },
     "execution_count": 21,
     "metadata": {},
     "output_type": "execute_result"
    }
   ],
   "source": [
    "data[\"city_match\"].value_counts()"
   ]
  },
  {
   "cell_type": "code",
   "execution_count": 22,
   "id": "9650ac57",
   "metadata": {},
   "outputs": [
    {
     "data": {
      "text/plain": [
       "title_proximity_tfidf          0\n",
       "description_proximity_tfidf    0\n",
       "main_query_tfidf               0\n",
       "query_jl_score                 0\n",
       "query_title_score              0\n",
       "city_match                     0\n",
       "job_age_days                   0\n",
       "apply                          0\n",
       "search_date_pacific            0\n",
       "class_id                       0\n",
       "dtype: int64"
      ]
     },
     "execution_count": 22,
     "metadata": {},
     "output_type": "execute_result"
    }
   ],
   "source": [
    "data.isnull().sum()"
   ]
  },
  {
   "cell_type": "code",
   "execution_count": 23,
   "id": "def2a492",
   "metadata": {},
   "outputs": [
    {
     "name": "stdout",
     "output_type": "stream",
     "text": [
      "<class 'pandas.core.frame.DataFrame'>\n",
      "RangeIndex: 1200890 entries, 0 to 1200889\n",
      "Data columns (total 10 columns):\n",
      " #   Column                       Non-Null Count    Dtype  \n",
      "---  ------                       --------------    -----  \n",
      " 0   title_proximity_tfidf        1200890 non-null  float64\n",
      " 1   description_proximity_tfidf  1200890 non-null  float64\n",
      " 2   main_query_tfidf             1200890 non-null  float64\n",
      " 3   query_jl_score               1200890 non-null  float64\n",
      " 4   query_title_score            1200890 non-null  float64\n",
      " 5   city_match                   1200890 non-null  float64\n",
      " 6   job_age_days                 1200890 non-null  float64\n",
      " 7   apply                        1200890 non-null  int64  \n",
      " 8   search_date_pacific          1200890 non-null  object \n",
      " 9   class_id                     1200890 non-null  int64  \n",
      "dtypes: float64(7), int64(2), object(1)\n",
      "memory usage: 91.6+ MB\n"
     ]
    }
   ],
   "source": [
    "data.info()"
   ]
  },
  {
   "cell_type": "markdown",
   "id": "6593b8dd",
   "metadata": {},
   "source": [
    "# Change DataType"
   ]
  },
  {
   "cell_type": "code",
   "execution_count": 24,
   "id": "152d85cd",
   "metadata": {},
   "outputs": [
    {
     "data": {
      "text/html": [
       "<div>\n",
       "<style scoped>\n",
       "    .dataframe tbody tr th:only-of-type {\n",
       "        vertical-align: middle;\n",
       "    }\n",
       "\n",
       "    .dataframe tbody tr th {\n",
       "        vertical-align: top;\n",
       "    }\n",
       "\n",
       "    .dataframe thead th {\n",
       "        text-align: right;\n",
       "    }\n",
       "</style>\n",
       "<table border=\"1\" class=\"dataframe\">\n",
       "  <thead>\n",
       "    <tr style=\"text-align: right;\">\n",
       "      <th></th>\n",
       "      <th>title_proximity_tfidf</th>\n",
       "      <th>description_proximity_tfidf</th>\n",
       "      <th>main_query_tfidf</th>\n",
       "      <th>query_jl_score</th>\n",
       "      <th>query_title_score</th>\n",
       "      <th>city_match</th>\n",
       "      <th>job_age_days</th>\n",
       "      <th>apply</th>\n",
       "      <th>search_date_pacific</th>\n",
       "      <th>class_id</th>\n",
       "    </tr>\n",
       "  </thead>\n",
       "  <tbody>\n",
       "    <tr>\n",
       "      <th>0</th>\n",
       "      <td>0.000000</td>\n",
       "      <td>0.000000</td>\n",
       "      <td>0.000000</td>\n",
       "      <td>0.004824</td>\n",
       "      <td>0.006628</td>\n",
       "      <td>0.0</td>\n",
       "      <td>5.0</td>\n",
       "      <td>0</td>\n",
       "      <td>2018-01-21</td>\n",
       "      <td>-7613806991329176388</td>\n",
       "    </tr>\n",
       "    <tr>\n",
       "      <th>1</th>\n",
       "      <td>11.874042</td>\n",
       "      <td>0.043637</td>\n",
       "      <td>2.527080</td>\n",
       "      <td>0.011935</td>\n",
       "      <td>0.011208</td>\n",
       "      <td>0.0</td>\n",
       "      <td>5.0</td>\n",
       "      <td>0</td>\n",
       "      <td>2018-01-21</td>\n",
       "      <td>-1361819269400927213</td>\n",
       "    </tr>\n",
       "    <tr>\n",
       "      <th>2</th>\n",
       "      <td>11.874042</td>\n",
       "      <td>0.043637</td>\n",
       "      <td>2.527080</td>\n",
       "      <td>0.011935</td>\n",
       "      <td>0.011208</td>\n",
       "      <td>0.0</td>\n",
       "      <td>5.0</td>\n",
       "      <td>1</td>\n",
       "      <td>2018-01-21</td>\n",
       "      <td>-1361819269400927213</td>\n",
       "    </tr>\n",
       "    <tr>\n",
       "      <th>3</th>\n",
       "      <td>0.000000</td>\n",
       "      <td>0.000000</td>\n",
       "      <td>3.695809</td>\n",
       "      <td>0.013046</td>\n",
       "      <td>0.033340</td>\n",
       "      <td>0.0</td>\n",
       "      <td>5.0</td>\n",
       "      <td>0</td>\n",
       "      <td>2018-01-23</td>\n",
       "      <td>-3623880078591607667</td>\n",
       "    </tr>\n",
       "    <tr>\n",
       "      <th>4</th>\n",
       "      <td>0.000000</td>\n",
       "      <td>0.000000</td>\n",
       "      <td>7.868900</td>\n",
       "      <td>0.008065</td>\n",
       "      <td>0.008772</td>\n",
       "      <td>0.0</td>\n",
       "      <td>7.0</td>\n",
       "      <td>0</td>\n",
       "      <td>2018-01-24</td>\n",
       "      <td>-7054510112423797411</td>\n",
       "    </tr>\n",
       "  </tbody>\n",
       "</table>\n",
       "</div>"
      ],
      "text/plain": [
       "   title_proximity_tfidf  description_proximity_tfidf  main_query_tfidf  \\\n",
       "0               0.000000                     0.000000          0.000000   \n",
       "1              11.874042                     0.043637          2.527080   \n",
       "2              11.874042                     0.043637          2.527080   \n",
       "3               0.000000                     0.000000          3.695809   \n",
       "4               0.000000                     0.000000          7.868900   \n",
       "\n",
       "   query_jl_score  query_title_score  city_match  job_age_days  apply  \\\n",
       "0        0.004824           0.006628         0.0           5.0      0   \n",
       "1        0.011935           0.011208         0.0           5.0      0   \n",
       "2        0.011935           0.011208         0.0           5.0      1   \n",
       "3        0.013046           0.033340         0.0           5.0      0   \n",
       "4        0.008065           0.008772         0.0           7.0      0   \n",
       "\n",
       "  search_date_pacific             class_id  \n",
       "0          2018-01-21 -7613806991329176388  \n",
       "1          2018-01-21 -1361819269400927213  \n",
       "2          2018-01-21 -1361819269400927213  \n",
       "3          2018-01-23 -3623880078591607667  \n",
       "4          2018-01-24 -7054510112423797411  "
      ]
     },
     "execution_count": 24,
     "metadata": {},
     "output_type": "execute_result"
    }
   ],
   "source": [
    "data.head()"
   ]
  },
  {
   "cell_type": "code",
   "execution_count": 25,
   "id": "9e8ab68d",
   "metadata": {},
   "outputs": [],
   "source": [
    "data[\"search_date_pacific\"] =pd.to_datetime(data[\"search_date_pacific\"],format='%Y-%m-%d')"
   ]
  },
  {
   "cell_type": "code",
   "execution_count": 26,
   "id": "b6d9fcc0",
   "metadata": {},
   "outputs": [
    {
     "name": "stdout",
     "output_type": "stream",
     "text": [
      "<class 'pandas.core.frame.DataFrame'>\n",
      "RangeIndex: 1200890 entries, 0 to 1200889\n",
      "Data columns (total 10 columns):\n",
      " #   Column                       Non-Null Count    Dtype         \n",
      "---  ------                       --------------    -----         \n",
      " 0   title_proximity_tfidf        1200890 non-null  float64       \n",
      " 1   description_proximity_tfidf  1200890 non-null  float64       \n",
      " 2   main_query_tfidf             1200890 non-null  float64       \n",
      " 3   query_jl_score               1200890 non-null  float64       \n",
      " 4   query_title_score            1200890 non-null  float64       \n",
      " 5   city_match                   1200890 non-null  float64       \n",
      " 6   job_age_days                 1200890 non-null  float64       \n",
      " 7   apply                        1200890 non-null  int64         \n",
      " 8   search_date_pacific          1200890 non-null  datetime64[ns]\n",
      " 9   class_id                     1200890 non-null  int64         \n",
      "dtypes: datetime64[ns](1), float64(7), int64(2)\n",
      "memory usage: 91.6 MB\n"
     ]
    }
   ],
   "source": [
    "data.info()"
   ]
  },
  {
   "cell_type": "code",
   "execution_count": 27,
   "id": "19a4579d",
   "metadata": {},
   "outputs": [
    {
     "data": {
      "text/html": [
       "<div>\n",
       "<style scoped>\n",
       "    .dataframe tbody tr th:only-of-type {\n",
       "        vertical-align: middle;\n",
       "    }\n",
       "\n",
       "    .dataframe tbody tr th {\n",
       "        vertical-align: top;\n",
       "    }\n",
       "\n",
       "    .dataframe thead th {\n",
       "        text-align: right;\n",
       "    }\n",
       "</style>\n",
       "<table border=\"1\" class=\"dataframe\">\n",
       "  <thead>\n",
       "    <tr style=\"text-align: right;\">\n",
       "      <th></th>\n",
       "      <th>title_proximity_tfidf</th>\n",
       "      <th>description_proximity_tfidf</th>\n",
       "      <th>main_query_tfidf</th>\n",
       "      <th>query_jl_score</th>\n",
       "      <th>query_title_score</th>\n",
       "      <th>city_match</th>\n",
       "      <th>job_age_days</th>\n",
       "      <th>apply</th>\n",
       "      <th>class_id</th>\n",
       "    </tr>\n",
       "  </thead>\n",
       "  <tbody>\n",
       "    <tr>\n",
       "      <th>count</th>\n",
       "      <td>1.200890e+06</td>\n",
       "      <td>1.200890e+06</td>\n",
       "      <td>1.200890e+06</td>\n",
       "      <td>1.200890e+06</td>\n",
       "      <td>1.200890e+06</td>\n",
       "      <td>1.200890e+06</td>\n",
       "      <td>1.200890e+06</td>\n",
       "      <td>1.200890e+06</td>\n",
       "      <td>1.200890e+06</td>\n",
       "    </tr>\n",
       "    <tr>\n",
       "      <th>mean</th>\n",
       "      <td>4.651058e+00</td>\n",
       "      <td>7.590343e-02</td>\n",
       "      <td>1.770301e+00</td>\n",
       "      <td>1.711024e-02</td>\n",
       "      <td>3.580456e-02</td>\n",
       "      <td>4.644389e-01</td>\n",
       "      <td>1.010130e+01</td>\n",
       "      <td>8.993580e-02</td>\n",
       "      <td>-3.956263e+17</td>\n",
       "    </tr>\n",
       "    <tr>\n",
       "      <th>std</th>\n",
       "      <td>8.990293e+00</td>\n",
       "      <td>2.556142e-01</td>\n",
       "      <td>2.237259e+00</td>\n",
       "      <td>1.220871e-02</td>\n",
       "      <td>4.886690e-02</td>\n",
       "      <td>4.987340e-01</td>\n",
       "      <td>1.738912e+01</td>\n",
       "      <td>2.860899e-01</td>\n",
       "      <td>5.664017e+18</td>\n",
       "    </tr>\n",
       "    <tr>\n",
       "      <th>min</th>\n",
       "      <td>0.000000e+00</td>\n",
       "      <td>0.000000e+00</td>\n",
       "      <td>0.000000e+00</td>\n",
       "      <td>1.000000e-06</td>\n",
       "      <td>9.998021e-07</td>\n",
       "      <td>0.000000e+00</td>\n",
       "      <td>0.000000e+00</td>\n",
       "      <td>0.000000e+00</td>\n",
       "      <td>-9.049388e+18</td>\n",
       "    </tr>\n",
       "    <tr>\n",
       "      <th>25%</th>\n",
       "      <td>0.000000e+00</td>\n",
       "      <td>0.000000e+00</td>\n",
       "      <td>0.000000e+00</td>\n",
       "      <td>1.063830e-02</td>\n",
       "      <td>1.256780e-02</td>\n",
       "      <td>0.000000e+00</td>\n",
       "      <td>2.000000e+00</td>\n",
       "      <td>0.000000e+00</td>\n",
       "      <td>-4.593390e+18</td>\n",
       "    </tr>\n",
       "    <tr>\n",
       "      <th>50%</th>\n",
       "      <td>0.000000e+00</td>\n",
       "      <td>0.000000e+00</td>\n",
       "      <td>2.509947e-01</td>\n",
       "      <td>1.578868e-02</td>\n",
       "      <td>2.066189e-02</td>\n",
       "      <td>0.000000e+00</td>\n",
       "      <td>6.000000e+00</td>\n",
       "      <td>0.000000e+00</td>\n",
       "      <td>-1.614083e+18</td>\n",
       "    </tr>\n",
       "    <tr>\n",
       "      <th>75%</th>\n",
       "      <td>3.375564e+00</td>\n",
       "      <td>4.257227e-02</td>\n",
       "      <td>3.423265e+00</td>\n",
       "      <td>2.043710e-02</td>\n",
       "      <td>3.760018e-02</td>\n",
       "      <td>1.000000e+00</td>\n",
       "      <td>1.400000e+01</td>\n",
       "      <td>0.000000e+00</td>\n",
       "      <td>4.315422e+18</td>\n",
       "    </tr>\n",
       "    <tr>\n",
       "      <th>max</th>\n",
       "      <td>9.351672e+01</td>\n",
       "      <td>7.301161e+00</td>\n",
       "      <td>1.774189e+01</td>\n",
       "      <td>2.556893e-01</td>\n",
       "      <td>1.294088e+00</td>\n",
       "      <td>1.000000e+00</td>\n",
       "      <td>1.340000e+03</td>\n",
       "      <td>1.000000e+00</td>\n",
       "      <td>9.204124e+18</td>\n",
       "    </tr>\n",
       "  </tbody>\n",
       "</table>\n",
       "</div>"
      ],
      "text/plain": [
       "       title_proximity_tfidf  description_proximity_tfidf  main_query_tfidf  \\\n",
       "count           1.200890e+06                 1.200890e+06      1.200890e+06   \n",
       "mean            4.651058e+00                 7.590343e-02      1.770301e+00   \n",
       "std             8.990293e+00                 2.556142e-01      2.237259e+00   \n",
       "min             0.000000e+00                 0.000000e+00      0.000000e+00   \n",
       "25%             0.000000e+00                 0.000000e+00      0.000000e+00   \n",
       "50%             0.000000e+00                 0.000000e+00      2.509947e-01   \n",
       "75%             3.375564e+00                 4.257227e-02      3.423265e+00   \n",
       "max             9.351672e+01                 7.301161e+00      1.774189e+01   \n",
       "\n",
       "       query_jl_score  query_title_score    city_match  job_age_days  \\\n",
       "count    1.200890e+06       1.200890e+06  1.200890e+06  1.200890e+06   \n",
       "mean     1.711024e-02       3.580456e-02  4.644389e-01  1.010130e+01   \n",
       "std      1.220871e-02       4.886690e-02  4.987340e-01  1.738912e+01   \n",
       "min      1.000000e-06       9.998021e-07  0.000000e+00  0.000000e+00   \n",
       "25%      1.063830e-02       1.256780e-02  0.000000e+00  2.000000e+00   \n",
       "50%      1.578868e-02       2.066189e-02  0.000000e+00  6.000000e+00   \n",
       "75%      2.043710e-02       3.760018e-02  1.000000e+00  1.400000e+01   \n",
       "max      2.556893e-01       1.294088e+00  1.000000e+00  1.340000e+03   \n",
       "\n",
       "              apply      class_id  \n",
       "count  1.200890e+06  1.200890e+06  \n",
       "mean   8.993580e-02 -3.956263e+17  \n",
       "std    2.860899e-01  5.664017e+18  \n",
       "min    0.000000e+00 -9.049388e+18  \n",
       "25%    0.000000e+00 -4.593390e+18  \n",
       "50%    0.000000e+00 -1.614083e+18  \n",
       "75%    0.000000e+00  4.315422e+18  \n",
       "max    1.000000e+00  9.204124e+18  "
      ]
     },
     "execution_count": 27,
     "metadata": {},
     "output_type": "execute_result"
    }
   ],
   "source": [
    "data.describe()"
   ]
  },
  {
   "cell_type": "code",
   "execution_count": 28,
   "id": "ebe17d1d",
   "metadata": {},
   "outputs": [],
   "source": [
    "#visualising the numerical\n",
    "#sns.pairplot(data)\n",
    "#plt.show()"
   ]
  },
  {
   "cell_type": "code",
   "execution_count": 29,
   "id": "0b3d05d5",
   "metadata": {},
   "outputs": [
    {
     "data": {
      "text/plain": [
       "Index(['title_proximity_tfidf', 'description_proximity_tfidf',\n",
       "       'main_query_tfidf', 'query_jl_score', 'query_title_score', 'city_match',\n",
       "       'job_age_days', 'apply', 'search_date_pacific', 'class_id'],\n",
       "      dtype='object')"
      ]
     },
     "execution_count": 29,
     "metadata": {},
     "output_type": "execute_result"
    }
   ],
   "source": [
    "data.columns"
   ]
  },
  {
   "cell_type": "code",
   "execution_count": 30,
   "id": "3e657105",
   "metadata": {},
   "outputs": [
    {
     "data": {
      "text/html": [
       "<div>\n",
       "<style scoped>\n",
       "    .dataframe tbody tr th:only-of-type {\n",
       "        vertical-align: middle;\n",
       "    }\n",
       "\n",
       "    .dataframe tbody tr th {\n",
       "        vertical-align: top;\n",
       "    }\n",
       "\n",
       "    .dataframe thead th {\n",
       "        text-align: right;\n",
       "    }\n",
       "</style>\n",
       "<table border=\"1\" class=\"dataframe\">\n",
       "  <thead>\n",
       "    <tr style=\"text-align: right;\">\n",
       "      <th></th>\n",
       "      <th>title_proximity_tfidf</th>\n",
       "      <th>description_proximity_tfidf</th>\n",
       "      <th>main_query_tfidf</th>\n",
       "      <th>query_jl_score</th>\n",
       "      <th>query_title_score</th>\n",
       "      <th>city_match</th>\n",
       "      <th>job_age_days</th>\n",
       "      <th>apply</th>\n",
       "      <th>search_date_pacific</th>\n",
       "      <th>class_id</th>\n",
       "    </tr>\n",
       "  </thead>\n",
       "  <tbody>\n",
       "    <tr>\n",
       "      <th>0</th>\n",
       "      <td>0.000000</td>\n",
       "      <td>0.000000</td>\n",
       "      <td>0.000000</td>\n",
       "      <td>0.004824</td>\n",
       "      <td>0.006628</td>\n",
       "      <td>0.0</td>\n",
       "      <td>5.0</td>\n",
       "      <td>0</td>\n",
       "      <td>2018-01-21</td>\n",
       "      <td>-7613806991329176388</td>\n",
       "    </tr>\n",
       "    <tr>\n",
       "      <th>1</th>\n",
       "      <td>11.874042</td>\n",
       "      <td>0.043637</td>\n",
       "      <td>2.527080</td>\n",
       "      <td>0.011935</td>\n",
       "      <td>0.011208</td>\n",
       "      <td>0.0</td>\n",
       "      <td>5.0</td>\n",
       "      <td>0</td>\n",
       "      <td>2018-01-21</td>\n",
       "      <td>-1361819269400927213</td>\n",
       "    </tr>\n",
       "    <tr>\n",
       "      <th>2</th>\n",
       "      <td>11.874042</td>\n",
       "      <td>0.043637</td>\n",
       "      <td>2.527080</td>\n",
       "      <td>0.011935</td>\n",
       "      <td>0.011208</td>\n",
       "      <td>0.0</td>\n",
       "      <td>5.0</td>\n",
       "      <td>1</td>\n",
       "      <td>2018-01-21</td>\n",
       "      <td>-1361819269400927213</td>\n",
       "    </tr>\n",
       "    <tr>\n",
       "      <th>3</th>\n",
       "      <td>0.000000</td>\n",
       "      <td>0.000000</td>\n",
       "      <td>3.695809</td>\n",
       "      <td>0.013046</td>\n",
       "      <td>0.033340</td>\n",
       "      <td>0.0</td>\n",
       "      <td>5.0</td>\n",
       "      <td>0</td>\n",
       "      <td>2018-01-23</td>\n",
       "      <td>-3623880078591607667</td>\n",
       "    </tr>\n",
       "    <tr>\n",
       "      <th>4</th>\n",
       "      <td>0.000000</td>\n",
       "      <td>0.000000</td>\n",
       "      <td>7.868900</td>\n",
       "      <td>0.008065</td>\n",
       "      <td>0.008772</td>\n",
       "      <td>0.0</td>\n",
       "      <td>7.0</td>\n",
       "      <td>0</td>\n",
       "      <td>2018-01-24</td>\n",
       "      <td>-7054510112423797411</td>\n",
       "    </tr>\n",
       "  </tbody>\n",
       "</table>\n",
       "</div>"
      ],
      "text/plain": [
       "   title_proximity_tfidf  description_proximity_tfidf  main_query_tfidf  \\\n",
       "0               0.000000                     0.000000          0.000000   \n",
       "1              11.874042                     0.043637          2.527080   \n",
       "2              11.874042                     0.043637          2.527080   \n",
       "3               0.000000                     0.000000          3.695809   \n",
       "4               0.000000                     0.000000          7.868900   \n",
       "\n",
       "   query_jl_score  query_title_score  city_match  job_age_days  apply  \\\n",
       "0        0.004824           0.006628         0.0           5.0      0   \n",
       "1        0.011935           0.011208         0.0           5.0      0   \n",
       "2        0.011935           0.011208         0.0           5.0      1   \n",
       "3        0.013046           0.033340         0.0           5.0      0   \n",
       "4        0.008065           0.008772         0.0           7.0      0   \n",
       "\n",
       "  search_date_pacific             class_id  \n",
       "0          2018-01-21 -7613806991329176388  \n",
       "1          2018-01-21 -1361819269400927213  \n",
       "2          2018-01-21 -1361819269400927213  \n",
       "3          2018-01-23 -3623880078591607667  \n",
       "4          2018-01-24 -7054510112423797411  "
      ]
     },
     "execution_count": 30,
     "metadata": {},
     "output_type": "execute_result"
    }
   ],
   "source": [
    "data.head()"
   ]
  },
  {
   "cell_type": "markdown",
   "id": "1ca2f2db",
   "metadata": {},
   "source": [
    "# Outliers Treatment"
   ]
  },
  {
   "cell_type": "code",
   "execution_count": 31,
   "id": "b70c6738",
   "metadata": {},
   "outputs": [
    {
     "data": {
      "image/png": "[encoded data removed]",
      "text/plain": [
       "<Figure size 432x288 with 6 Axes>"
      ]
     },
     "metadata": {
      "needs_background": "light"
     },
     "output_type": "display_data"
    }
   ],
   "source": [
    "plt.subplot(1,6,1)\n",
    "plt.boxplot(data['title_proximity_tfidf'])\n",
    "\n",
    "plt.subplot(1,6,2)\n",
    "plt.boxplot(data['description_proximity_tfidf'])\n",
    "\n",
    "plt.subplot(1,6,3)\n",
    "plt.boxplot(data['main_query_tfidf'])\n",
    "\n",
    "plt.subplot(1,6,4)\n",
    "plt.boxplot(data['query_jl_score'])\n",
    "\n",
    "plt.subplot(1,6,5)\n",
    "plt.boxplot(data['query_title_score'])\n",
    "\n",
    "plt.subplot(1,6,6)\n",
    "plt.boxplot(data['job_age_days'])\n",
    "\n",
    "plt.show()"
   ]
  },
  {
   "cell_type": "code",
   "execution_count": 32,
   "id": "9ddeb28a",
   "metadata": {},
   "outputs": [],
   "source": [
    "Q1 = data[\"title_proximity_tfidf\"].quantile(0.05)\n",
    "Q3 = data[\"title_proximity_tfidf\"].quantile(0.95)\n",
    "IQR = Q3 - Q1\n",
    "data = data[(data[\"title_proximity_tfidf\"] >= Q1 - 1.5*IQR) & (data[\"title_proximity_tfidf\"] <= Q3 + 1.5*IQR)]\n",
    "\n",
    "Q1 = data[\"description_proximity_tfidf\"].quantile(0.05)\n",
    "Q3 = data[\"description_proximity_tfidf\"].quantile(0.95)\n",
    "IQR = Q3 - Q1\n",
    "data = data[(data[\"description_proximity_tfidf\"] >= Q1 - 1.5*IQR) & (data[\"description_proximity_tfidf\"] <= Q3 + 1.5*IQR)]\n",
    "\n",
    "Q1 = data[\"main_query_tfidf\"].quantile(0.05)\n",
    "Q3 = data[\"main_query_tfidf\"].quantile(0.95)\n",
    "IQR = Q3 - Q1\n",
    "data = data[(data[\"main_query_tfidf\"] >= Q1 - 1.5*IQR) & (data[\"main_query_tfidf\"] <= Q3 + 1.5*IQR)]\n",
    "\n",
    "Q1 = data[\"query_jl_score\"].quantile(0.05)\n",
    "Q3 = data[\"query_jl_score\"].quantile(0.95)\n",
    "IQR = Q3 - Q1\n",
    "data = data[(data[\"query_jl_score\"] >= Q1 - 1.5*IQR) & (data[\"query_jl_score\"] <= Q3 + 1.5*IQR)]\n",
    "\n",
    "Q1 = data[\"query_title_score\"].quantile(0.05)\n",
    "Q3 = data[\"query_title_score\"].quantile(0.95)\n",
    "IQR = Q3 - Q1\n",
    "data = data[(data[\"query_title_score\"] >= Q1 - 1.5*IQR) & (data[\"query_title_score\"] <= Q3 + 1.5*IQR)]\n",
    "\n",
    "Q1 = data[\"job_age_days\"].quantile(0.05)\n",
    "Q3 = data[\"job_age_days\"].quantile(0.95)\n",
    "IQR = Q3 - Q1\n",
    "data = data[(data[\"job_age_days\"] >= Q1 - 1.5*IQR) & (data[\"job_age_days\"] <= Q3 + 1.5*IQR)]"
   ]
  },
  {
   "cell_type": "code",
   "execution_count": 33,
   "id": "43c7c028",
   "metadata": {},
   "outputs": [
    {
     "data": {
      "text/plain": [
       "(1160813, 10)"
      ]
     },
     "execution_count": 33,
     "metadata": {},
     "output_type": "execute_result"
    }
   ],
   "source": [
    "data.shape"
   ]
  },
  {
   "cell_type": "markdown",
   "id": "8b89ed94",
   "metadata": {},
   "source": [
    "# Scale the Data"
   ]
  },
  {
   "cell_type": "code",
   "execution_count": 34,
   "id": "090b03ba",
   "metadata": {},
   "outputs": [],
   "source": [
    "X = data.iloc[:,:-3]\n",
    "y = data.iloc[:,-3]"
   ]
  },
  {
   "cell_type": "code",
   "execution_count": 35,
   "id": "14d7cc6a",
   "metadata": {},
   "outputs": [
    {
     "data": {
      "text/html": [
       "<div>\n",
       "<style scoped>\n",
       "    .dataframe tbody tr th:only-of-type {\n",
       "        vertical-align: middle;\n",
       "    }\n",
       "\n",
       "    .dataframe tbody tr th {\n",
       "        vertical-align: top;\n",
       "    }\n",
       "\n",
       "    .dataframe thead th {\n",
       "        text-align: right;\n",
       "    }\n",
       "</style>\n",
       "<table border=\"1\" class=\"dataframe\">\n",
       "  <thead>\n",
       "    <tr style=\"text-align: right;\">\n",
       "      <th></th>\n",
       "      <th>title_proximity_tfidf</th>\n",
       "      <th>description_proximity_tfidf</th>\n",
       "      <th>main_query_tfidf</th>\n",
       "      <th>query_jl_score</th>\n",
       "      <th>query_title_score</th>\n",
       "      <th>city_match</th>\n",
       "      <th>job_age_days</th>\n",
       "    </tr>\n",
       "  </thead>\n",
       "  <tbody>\n",
       "    <tr>\n",
       "      <th>0</th>\n",
       "      <td>0.000000</td>\n",
       "      <td>0.000000</td>\n",
       "      <td>0.000000</td>\n",
       "      <td>0.004824</td>\n",
       "      <td>0.006628</td>\n",
       "      <td>0.0</td>\n",
       "      <td>5.0</td>\n",
       "    </tr>\n",
       "    <tr>\n",
       "      <th>1</th>\n",
       "      <td>11.874042</td>\n",
       "      <td>0.043637</td>\n",
       "      <td>2.527080</td>\n",
       "      <td>0.011935</td>\n",
       "      <td>0.011208</td>\n",
       "      <td>0.0</td>\n",
       "      <td>5.0</td>\n",
       "    </tr>\n",
       "    <tr>\n",
       "      <th>2</th>\n",
       "      <td>11.874042</td>\n",
       "      <td>0.043637</td>\n",
       "      <td>2.527080</td>\n",
       "      <td>0.011935</td>\n",
       "      <td>0.011208</td>\n",
       "      <td>0.0</td>\n",
       "      <td>5.0</td>\n",
       "    </tr>\n",
       "    <tr>\n",
       "      <th>3</th>\n",
       "      <td>0.000000</td>\n",
       "      <td>0.000000</td>\n",
       "      <td>3.695809</td>\n",
       "      <td>0.013046</td>\n",
       "      <td>0.033340</td>\n",
       "      <td>0.0</td>\n",
       "      <td>5.0</td>\n",
       "    </tr>\n",
       "    <tr>\n",
       "      <th>4</th>\n",
       "      <td>0.000000</td>\n",
       "      <td>0.000000</td>\n",
       "      <td>7.868900</td>\n",
       "      <td>0.008065</td>\n",
       "      <td>0.008772</td>\n",
       "      <td>0.0</td>\n",
       "      <td>7.0</td>\n",
       "    </tr>\n",
       "  </tbody>\n",
       "</table>\n",
       "</div>"
      ],
      "text/plain": [
       "   title_proximity_tfidf  description_proximity_tfidf  main_query_tfidf  \\\n",
       "0               0.000000                     0.000000          0.000000   \n",
       "1              11.874042                     0.043637          2.527080   \n",
       "2              11.874042                     0.043637          2.527080   \n",
       "3               0.000000                     0.000000          3.695809   \n",
       "4               0.000000                     0.000000          7.868900   \n",
       "\n",
       "   query_jl_score  query_title_score  city_match  job_age_days  \n",
       "0        0.004824           0.006628         0.0           5.0  \n",
       "1        0.011935           0.011208         0.0           5.0  \n",
       "2        0.011935           0.011208         0.0           5.0  \n",
       "3        0.013046           0.033340         0.0           5.0  \n",
       "4        0.008065           0.008772         0.0           7.0  "
      ]
     },
     "execution_count": 35,
     "metadata": {},
     "output_type": "execute_result"
    }
   ],
   "source": [
    "X.head()"
   ]
  },
  {
   "cell_type": "code",
   "execution_count": 36,
   "id": "101ebd81",
   "metadata": {},
   "outputs": [
    {
     "data": {
      "text/plain": [
       "0    0\n",
       "1    0\n",
       "2    1\n",
       "3    0\n",
       "4    0\n",
       "Name: apply, dtype: int64"
      ]
     },
     "execution_count": 36,
     "metadata": {},
     "output_type": "execute_result"
    }
   ],
   "source": [
    "y.head()"
   ]
  },
  {
   "cell_type": "code",
   "execution_count": 37,
   "id": "070f8f15",
   "metadata": {},
   "outputs": [
    {
     "data": {
      "text/html": [
       "<div>\n",
       "<style scoped>\n",
       "    .dataframe tbody tr th:only-of-type {\n",
       "        vertical-align: middle;\n",
       "    }\n",
       "\n",
       "    .dataframe tbody tr th {\n",
       "        vertical-align: top;\n",
       "    }\n",
       "\n",
       "    .dataframe thead th {\n",
       "        text-align: right;\n",
       "    }\n",
       "</style>\n",
       "<table border=\"1\" class=\"dataframe\">\n",
       "  <thead>\n",
       "    <tr style=\"text-align: right;\">\n",
       "      <th></th>\n",
       "      <th>title_proximity_tfidf</th>\n",
       "      <th>description_proximity_tfidf</th>\n",
       "      <th>main_query_tfidf</th>\n",
       "      <th>query_jl_score</th>\n",
       "      <th>query_title_score</th>\n",
       "      <th>city_match</th>\n",
       "      <th>job_age_days</th>\n",
       "    </tr>\n",
       "  </thead>\n",
       "  <tbody>\n",
       "    <tr>\n",
       "      <th>count</th>\n",
       "      <td>1.160813e+06</td>\n",
       "      <td>1.160813e+06</td>\n",
       "      <td>1.160813e+06</td>\n",
       "      <td>1.160813e+06</td>\n",
       "      <td>1.160813e+06</td>\n",
       "      <td>1.160813e+06</td>\n",
       "      <td>1.160813e+06</td>\n",
       "    </tr>\n",
       "    <tr>\n",
       "      <th>mean</th>\n",
       "      <td>4.559350e+00</td>\n",
       "      <td>4.445749e-02</td>\n",
       "      <td>1.758086e+00</td>\n",
       "      <td>1.684282e-02</td>\n",
       "      <td>3.458276e-02</td>\n",
       "      <td>4.677523e-01</td>\n",
       "      <td>9.051271e+00</td>\n",
       "    </tr>\n",
       "    <tr>\n",
       "      <th>std</th>\n",
       "      <td>8.902353e+00</td>\n",
       "      <td>1.066351e-01</td>\n",
       "      <td>2.231874e+00</td>\n",
       "      <td>1.162584e-02</td>\n",
       "      <td>4.477255e-02</td>\n",
       "      <td>4.989592e-01</td>\n",
       "      <td>9.374325e+00</td>\n",
       "    </tr>\n",
       "    <tr>\n",
       "      <th>min</th>\n",
       "      <td>0.000000e+00</td>\n",
       "      <td>0.000000e+00</td>\n",
       "      <td>0.000000e+00</td>\n",
       "      <td>1.000000e-06</td>\n",
       "      <td>9.998021e-07</td>\n",
       "      <td>0.000000e+00</td>\n",
       "      <td>0.000000e+00</td>\n",
       "    </tr>\n",
       "    <tr>\n",
       "      <th>25%</th>\n",
       "      <td>0.000000e+00</td>\n",
       "      <td>0.000000e+00</td>\n",
       "      <td>0.000000e+00</td>\n",
       "      <td>1.060724e-02</td>\n",
       "      <td>1.246960e-02</td>\n",
       "      <td>0.000000e+00</td>\n",
       "      <td>2.000000e+00</td>\n",
       "    </tr>\n",
       "    <tr>\n",
       "      <th>50%</th>\n",
       "      <td>0.000000e+00</td>\n",
       "      <td>0.000000e+00</td>\n",
       "      <td>1.918011e-01</td>\n",
       "      <td>1.568699e-02</td>\n",
       "      <td>2.042185e-02</td>\n",
       "      <td>0.000000e+00</td>\n",
       "      <td>6.000000e+00</td>\n",
       "    </tr>\n",
       "    <tr>\n",
       "      <th>75%</th>\n",
       "      <td>0.000000e+00</td>\n",
       "      <td>3.821106e-02</td>\n",
       "      <td>3.386576e+00</td>\n",
       "      <td>2.010729e-02</td>\n",
       "      <td>3.714633e-02</td>\n",
       "      <td>1.000000e+00</td>\n",
       "      <td>1.400000e+01</td>\n",
       "    </tr>\n",
       "    <tr>\n",
       "      <th>max</th>\n",
       "      <td>6.403796e+01</td>\n",
       "      <td>8.441279e-01</td>\n",
       "      <td>1.507848e+01</td>\n",
       "      <td>9.815537e-02</td>\n",
       "      <td>3.120473e-01</td>\n",
       "      <td>1.000000e+00</td>\n",
       "      <td>6.500000e+01</td>\n",
       "    </tr>\n",
       "  </tbody>\n",
       "</table>\n",
       "</div>"
      ],
      "text/plain": [
       "       title_proximity_tfidf  description_proximity_tfidf  main_query_tfidf  \\\n",
       "count           1.160813e+06                 1.160813e+06      1.160813e+06   \n",
       "mean            4.559350e+00                 4.445749e-02      1.758086e+00   \n",
       "std             8.902353e+00                 1.066351e-01      2.231874e+00   \n",
       "min             0.000000e+00                 0.000000e+00      0.000000e+00   \n",
       "25%             0.000000e+00                 0.000000e+00      0.000000e+00   \n",
       "50%             0.000000e+00                 0.000000e+00      1.918011e-01   \n",
       "75%             0.000000e+00                 3.821106e-02      3.386576e+00   \n",
       "max             6.403796e+01                 8.441279e-01      1.507848e+01   \n",
       "\n",
       "       query_jl_score  query_title_score    city_match  job_age_days  \n",
       "count    1.160813e+06       1.160813e+06  1.160813e+06  1.160813e+06  \n",
       "mean     1.684282e-02       3.458276e-02  4.677523e-01  9.051271e+00  \n",
       "std      1.162584e-02       4.477255e-02  4.989592e-01  9.374325e+00  \n",
       "min      1.000000e-06       9.998021e-07  0.000000e+00  0.000000e+00  \n",
       "25%      1.060724e-02       1.246960e-02  0.000000e+00  2.000000e+00  \n",
       "50%      1.568699e-02       2.042185e-02  0.000000e+00  6.000000e+00  \n",
       "75%      2.010729e-02       3.714633e-02  1.000000e+00  1.400000e+01  \n",
       "max      9.815537e-02       3.120473e-01  1.000000e+00  6.500000e+01  "
      ]
     },
     "execution_count": 37,
     "metadata": {},
     "output_type": "execute_result"
    }
   ],
   "source": [
    "X.describe()"
   ]
  },
  {
   "cell_type": "code",
   "execution_count": 38,
   "id": "7e34ec79",
   "metadata": {},
   "outputs": [],
   "source": [
    "from sklearn.preprocessing import MinMaxScaler\n",
    "scaler = MinMaxScaler()"
   ]
  },
  {
   "cell_type": "code",
   "execution_count": 39,
   "id": "4ac72cdb",
   "metadata": {},
   "outputs": [
    {
     "data": {
      "text/html": [
       "<div>\n",
       "<style scoped>\n",
       "    .dataframe tbody tr th:only-of-type {\n",
       "        vertical-align: middle;\n",
       "    }\n",
       "\n",
       "    .dataframe tbody tr th {\n",
       "        vertical-align: top;\n",
       "    }\n",
       "\n",
       "    .dataframe thead th {\n",
       "        text-align: right;\n",
       "    }\n",
       "</style>\n",
       "<table border=\"1\" class=\"dataframe\">\n",
       "  <thead>\n",
       "    <tr style=\"text-align: right;\">\n",
       "      <th></th>\n",
       "      <th>title_proximity_tfidf</th>\n",
       "      <th>description_proximity_tfidf</th>\n",
       "      <th>main_query_tfidf</th>\n",
       "      <th>query_jl_score</th>\n",
       "      <th>query_title_score</th>\n",
       "      <th>city_match</th>\n",
       "      <th>job_age_days</th>\n",
       "    </tr>\n",
       "  </thead>\n",
       "  <tbody>\n",
       "    <tr>\n",
       "      <th>0</th>\n",
       "      <td>0.000000</td>\n",
       "      <td>0.000000</td>\n",
       "      <td>0.000000</td>\n",
       "      <td>0.004824</td>\n",
       "      <td>0.006628</td>\n",
       "      <td>0.0</td>\n",
       "      <td>5.0</td>\n",
       "    </tr>\n",
       "    <tr>\n",
       "      <th>1</th>\n",
       "      <td>11.874042</td>\n",
       "      <td>0.043637</td>\n",
       "      <td>2.527080</td>\n",
       "      <td>0.011935</td>\n",
       "      <td>0.011208</td>\n",
       "      <td>0.0</td>\n",
       "      <td>5.0</td>\n",
       "    </tr>\n",
       "    <tr>\n",
       "      <th>2</th>\n",
       "      <td>11.874042</td>\n",
       "      <td>0.043637</td>\n",
       "      <td>2.527080</td>\n",
       "      <td>0.011935</td>\n",
       "      <td>0.011208</td>\n",
       "      <td>0.0</td>\n",
       "      <td>5.0</td>\n",
       "    </tr>\n",
       "    <tr>\n",
       "      <th>3</th>\n",
       "      <td>0.000000</td>\n",
       "      <td>0.000000</td>\n",
       "      <td>3.695809</td>\n",
       "      <td>0.013046</td>\n",
       "      <td>0.033340</td>\n",
       "      <td>0.0</td>\n",
       "      <td>5.0</td>\n",
       "    </tr>\n",
       "    <tr>\n",
       "      <th>4</th>\n",
       "      <td>0.000000</td>\n",
       "      <td>0.000000</td>\n",
       "      <td>7.868900</td>\n",
       "      <td>0.008065</td>\n",
       "      <td>0.008772</td>\n",
       "      <td>0.0</td>\n",
       "      <td>7.0</td>\n",
       "    </tr>\n",
       "  </tbody>\n",
       "</table>\n",
       "</div>"
      ],
      "text/plain": [
       "   title_proximity_tfidf  description_proximity_tfidf  main_query_tfidf  \\\n",
       "0               0.000000                     0.000000          0.000000   \n",
       "1              11.874042                     0.043637          2.527080   \n",
       "2              11.874042                     0.043637          2.527080   \n",
       "3               0.000000                     0.000000          3.695809   \n",
       "4               0.000000                     0.000000          7.868900   \n",
       "\n",
       "   query_jl_score  query_title_score  city_match  job_age_days  \n",
       "0        0.004824           0.006628         0.0           5.0  \n",
       "1        0.011935           0.011208         0.0           5.0  \n",
       "2        0.011935           0.011208         0.0           5.0  \n",
       "3        0.013046           0.033340         0.0           5.0  \n",
       "4        0.008065           0.008772         0.0           7.0  "
      ]
     },
     "execution_count": 39,
     "metadata": {},
     "output_type": "execute_result"
    }
   ],
   "source": [
    "X.head()"
   ]
  },
  {
   "cell_type": "code",
   "execution_count": 40,
   "id": "4afc2e05",
   "metadata": {},
   "outputs": [],
   "source": [
    "XScaled = scaler.fit_transform(X)"
   ]
  },
  {
   "cell_type": "code",
   "execution_count": 41,
   "id": "1214861c",
   "metadata": {},
   "outputs": [
    {
     "data": {
      "text/html": [
       "<div>\n",
       "<style scoped>\n",
       "    .dataframe tbody tr th:only-of-type {\n",
       "        vertical-align: middle;\n",
       "    }\n",
       "\n",
       "    .dataframe tbody tr th {\n",
       "        vertical-align: top;\n",
       "    }\n",
       "\n",
       "    .dataframe thead th {\n",
       "        text-align: right;\n",
       "    }\n",
       "</style>\n",
       "<table border=\"1\" class=\"dataframe\">\n",
       "  <thead>\n",
       "    <tr style=\"text-align: right;\">\n",
       "      <th></th>\n",
       "      <th>title_proximity_tfidf</th>\n",
       "      <th>description_proximity_tfidf</th>\n",
       "      <th>main_query_tfidf</th>\n",
       "      <th>query_jl_score</th>\n",
       "      <th>query_title_score</th>\n",
       "      <th>city_match</th>\n",
       "      <th>job_age_days</th>\n",
       "    </tr>\n",
       "  </thead>\n",
       "  <tbody>\n",
       "    <tr>\n",
       "      <th>0</th>\n",
       "      <td>0.000000</td>\n",
       "      <td>0.000000</td>\n",
       "      <td>0.000000</td>\n",
       "      <td>0.049140</td>\n",
       "      <td>0.021237</td>\n",
       "      <td>0.0</td>\n",
       "      <td>0.076923</td>\n",
       "    </tr>\n",
       "    <tr>\n",
       "      <th>1</th>\n",
       "      <td>0.185422</td>\n",
       "      <td>0.051695</td>\n",
       "      <td>0.167595</td>\n",
       "      <td>0.121587</td>\n",
       "      <td>0.035915</td>\n",
       "      <td>0.0</td>\n",
       "      <td>0.076923</td>\n",
       "    </tr>\n",
       "    <tr>\n",
       "      <th>2</th>\n",
       "      <td>0.185422</td>\n",
       "      <td>0.051695</td>\n",
       "      <td>0.167595</td>\n",
       "      <td>0.121587</td>\n",
       "      <td>0.035915</td>\n",
       "      <td>0.0</td>\n",
       "      <td>0.076923</td>\n",
       "    </tr>\n",
       "    <tr>\n",
       "      <th>3</th>\n",
       "      <td>0.000000</td>\n",
       "      <td>0.000000</td>\n",
       "      <td>0.245105</td>\n",
       "      <td>0.132907</td>\n",
       "      <td>0.106841</td>\n",
       "      <td>0.0</td>\n",
       "      <td>0.076923</td>\n",
       "    </tr>\n",
       "    <tr>\n",
       "      <th>4</th>\n",
       "      <td>0.000000</td>\n",
       "      <td>0.000000</td>\n",
       "      <td>0.521863</td>\n",
       "      <td>0.082151</td>\n",
       "      <td>0.028108</td>\n",
       "      <td>0.0</td>\n",
       "      <td>0.107692</td>\n",
       "    </tr>\n",
       "  </tbody>\n",
       "</table>\n",
       "</div>"
      ],
      "text/plain": [
       "   title_proximity_tfidf  description_proximity_tfidf  main_query_tfidf  \\\n",
       "0               0.000000                     0.000000          0.000000   \n",
       "1               0.185422                     0.051695          0.167595   \n",
       "2               0.185422                     0.051695          0.167595   \n",
       "3               0.000000                     0.000000          0.245105   \n",
       "4               0.000000                     0.000000          0.521863   \n",
       "\n",
       "   query_jl_score  query_title_score  city_match  job_age_days  \n",
       "0        0.049140           0.021237         0.0      0.076923  \n",
       "1        0.121587           0.035915         0.0      0.076923  \n",
       "2        0.121587           0.035915         0.0      0.076923  \n",
       "3        0.132907           0.106841         0.0      0.076923  \n",
       "4        0.082151           0.028108         0.0      0.107692  "
      ]
     },
     "execution_count": 41,
     "metadata": {},
     "output_type": "execute_result"
    }
   ],
   "source": [
    "XScaled = pd.DataFrame(XScaled)\n",
    "XScaled.columns = X.columns\n",
    "XScaled.head()"
   ]
  },
  {
   "cell_type": "code",
   "execution_count": 42,
   "id": "3fda7cff",
   "metadata": {},
   "outputs": [
    {
     "data": {
      "text/html": [
       "<div>\n",
       "<style scoped>\n",
       "    .dataframe tbody tr th:only-of-type {\n",
       "        vertical-align: middle;\n",
       "    }\n",
       "\n",
       "    .dataframe tbody tr th {\n",
       "        vertical-align: top;\n",
       "    }\n",
       "\n",
       "    .dataframe thead th {\n",
       "        text-align: right;\n",
       "    }\n",
       "</style>\n",
       "<table border=\"1\" class=\"dataframe\">\n",
       "  <thead>\n",
       "    <tr style=\"text-align: right;\">\n",
       "      <th></th>\n",
       "      <th>title_proximity_tfidf</th>\n",
       "      <th>description_proximity_tfidf</th>\n",
       "      <th>main_query_tfidf</th>\n",
       "      <th>query_jl_score</th>\n",
       "      <th>query_title_score</th>\n",
       "      <th>city_match</th>\n",
       "      <th>job_age_days</th>\n",
       "    </tr>\n",
       "  </thead>\n",
       "  <tbody>\n",
       "    <tr>\n",
       "      <th>count</th>\n",
       "      <td>1.160813e+06</td>\n",
       "      <td>1.160813e+06</td>\n",
       "      <td>1.160813e+06</td>\n",
       "      <td>1.160813e+06</td>\n",
       "      <td>1.160813e+06</td>\n",
       "      <td>1.160813e+06</td>\n",
       "      <td>1.160813e+06</td>\n",
       "    </tr>\n",
       "    <tr>\n",
       "      <th>mean</th>\n",
       "      <td>7.119761e-02</td>\n",
       "      <td>5.266677e-02</td>\n",
       "      <td>1.165957e-01</td>\n",
       "      <td>1.715850e-01</td>\n",
       "      <td>1.108225e-01</td>\n",
       "      <td>4.677523e-01</td>\n",
       "      <td>1.392503e-01</td>\n",
       "    </tr>\n",
       "    <tr>\n",
       "      <th>std</th>\n",
       "      <td>1.390168e-01</td>\n",
       "      <td>1.263257e-01</td>\n",
       "      <td>1.480172e-01</td>\n",
       "      <td>1.184444e-01</td>\n",
       "      <td>1.434805e-01</td>\n",
       "      <td>4.989592e-01</td>\n",
       "      <td>1.442204e-01</td>\n",
       "    </tr>\n",
       "    <tr>\n",
       "      <th>min</th>\n",
       "      <td>0.000000e+00</td>\n",
       "      <td>0.000000e+00</td>\n",
       "      <td>0.000000e+00</td>\n",
       "      <td>0.000000e+00</td>\n",
       "      <td>0.000000e+00</td>\n",
       "      <td>0.000000e+00</td>\n",
       "      <td>0.000000e+00</td>\n",
       "    </tr>\n",
       "    <tr>\n",
       "      <th>25%</th>\n",
       "      <td>0.000000e+00</td>\n",
       "      <td>0.000000e+00</td>\n",
       "      <td>0.000000e+00</td>\n",
       "      <td>1.080567e-01</td>\n",
       "      <td>3.995755e-02</td>\n",
       "      <td>0.000000e+00</td>\n",
       "      <td>3.076923e-02</td>\n",
       "    </tr>\n",
       "    <tr>\n",
       "      <th>50%</th>\n",
       "      <td>0.000000e+00</td>\n",
       "      <td>0.000000e+00</td>\n",
       "      <td>1.272019e-02</td>\n",
       "      <td>1.598094e-01</td>\n",
       "      <td>6.544174e-02</td>\n",
       "      <td>0.000000e+00</td>\n",
       "      <td>9.230769e-02</td>\n",
       "    </tr>\n",
       "    <tr>\n",
       "      <th>75%</th>\n",
       "      <td>0.000000e+00</td>\n",
       "      <td>4.526691e-02</td>\n",
       "      <td>2.245967e-01</td>\n",
       "      <td>2.048436e-01</td>\n",
       "      <td>1.190379e-01</td>\n",
       "      <td>1.000000e+00</td>\n",
       "      <td>2.153846e-01</td>\n",
       "    </tr>\n",
       "    <tr>\n",
       "      <th>max</th>\n",
       "      <td>1.000000e+00</td>\n",
       "      <td>1.000000e+00</td>\n",
       "      <td>1.000000e+00</td>\n",
       "      <td>1.000000e+00</td>\n",
       "      <td>1.000000e+00</td>\n",
       "      <td>1.000000e+00</td>\n",
       "      <td>1.000000e+00</td>\n",
       "    </tr>\n",
       "  </tbody>\n",
       "</table>\n",
       "</div>"
      ],
      "text/plain": [
       "       title_proximity_tfidf  description_proximity_tfidf  main_query_tfidf  \\\n",
       "count           1.160813e+06                 1.160813e+06      1.160813e+06   \n",
       "mean            7.119761e-02                 5.266677e-02      1.165957e-01   \n",
       "std             1.390168e-01                 1.263257e-01      1.480172e-01   \n",
       "min             0.000000e+00                 0.000000e+00      0.000000e+00   \n",
       "25%             0.000000e+00                 0.000000e+00      0.000000e+00   \n",
       "50%             0.000000e+00                 0.000000e+00      1.272019e-02   \n",
       "75%             0.000000e+00                 4.526691e-02      2.245967e-01   \n",
       "max             1.000000e+00                 1.000000e+00      1.000000e+00   \n",
       "\n",
       "       query_jl_score  query_title_score    city_match  job_age_days  \n",
       "count    1.160813e+06       1.160813e+06  1.160813e+06  1.160813e+06  \n",
       "mean     1.715850e-01       1.108225e-01  4.677523e-01  1.392503e-01  \n",
       "std      1.184444e-01       1.434805e-01  4.989592e-01  1.442204e-01  \n",
       "min      0.000000e+00       0.000000e+00  0.000000e+00  0.000000e+00  \n",
       "25%      1.080567e-01       3.995755e-02  0.000000e+00  3.076923e-02  \n",
       "50%      1.598094e-01       6.544174e-02  0.000000e+00  9.230769e-02  \n",
       "75%      2.048436e-01       1.190379e-01  1.000000e+00  2.153846e-01  \n",
       "max      1.000000e+00       1.000000e+00  1.000000e+00  1.000000e+00  "
      ]
     },
     "execution_count": 42,
     "metadata": {},
     "output_type": "execute_result"
    }
   ],
   "source": [
    "XScaled.describe()"
   ]
  },
  {
   "cell_type": "markdown",
   "id": "41de5174",
   "metadata": {},
   "source": [
    "## Train Test Split"
   ]
  },
  {
   "cell_type": "code",
   "execution_count": 43,
   "id": "c69eed10",
   "metadata": {},
   "outputs": [],
   "source": [
    "# split into train and test\n",
    "from sklearn.model_selection import train_test_split\n",
    "X_train, X_test, y_train, y_test = train_test_split(XScaled, y, \n",
    "                                                   train_size=0.9,\n",
    "                                                   test_size = 0.1, random_state=100) # we have enough data so we select 90 percentage of test data"
   ]
  },
  {
   "cell_type": "code",
   "execution_count": 44,
   "id": "b733c63a",
   "metadata": {},
   "outputs": [
    {
     "data": {
      "text/html": [
       "<div>\n",
       "<style scoped>\n",
       "    .dataframe tbody tr th:only-of-type {\n",
       "        vertical-align: middle;\n",
       "    }\n",
       "\n",
       "    .dataframe tbody tr th {\n",
       "        vertical-align: top;\n",
       "    }\n",
       "\n",
       "    .dataframe thead th {\n",
       "        text-align: right;\n",
       "    }\n",
       "</style>\n",
       "<table border=\"1\" class=\"dataframe\">\n",
       "  <thead>\n",
       "    <tr style=\"text-align: right;\">\n",
       "      <th></th>\n",
       "      <th>title_proximity_tfidf</th>\n",
       "      <th>description_proximity_tfidf</th>\n",
       "      <th>main_query_tfidf</th>\n",
       "      <th>query_jl_score</th>\n",
       "      <th>query_title_score</th>\n",
       "      <th>city_match</th>\n",
       "      <th>job_age_days</th>\n",
       "    </tr>\n",
       "  </thead>\n",
       "  <tbody>\n",
       "    <tr>\n",
       "      <th>789503</th>\n",
       "      <td>0.0</td>\n",
       "      <td>0.00000</td>\n",
       "      <td>0.205002</td>\n",
       "      <td>0.137679</td>\n",
       "      <td>0.033379</td>\n",
       "      <td>0.0</td>\n",
       "      <td>0.015385</td>\n",
       "    </tr>\n",
       "    <tr>\n",
       "      <th>1088493</th>\n",
       "      <td>0.0</td>\n",
       "      <td>0.20601</td>\n",
       "      <td>0.000000</td>\n",
       "      <td>0.095265</td>\n",
       "      <td>0.037336</td>\n",
       "      <td>0.0</td>\n",
       "      <td>0.307692</td>\n",
       "    </tr>\n",
       "    <tr>\n",
       "      <th>182728</th>\n",
       "      <td>0.0</td>\n",
       "      <td>0.00000</td>\n",
       "      <td>0.000000</td>\n",
       "      <td>0.287300</td>\n",
       "      <td>0.084005</td>\n",
       "      <td>0.0</td>\n",
       "      <td>0.246154</td>\n",
       "    </tr>\n",
       "    <tr>\n",
       "      <th>762310</th>\n",
       "      <td>0.0</td>\n",
       "      <td>0.00000</td>\n",
       "      <td>0.000000</td>\n",
       "      <td>0.150895</td>\n",
       "      <td>0.230420</td>\n",
       "      <td>1.0</td>\n",
       "      <td>0.015385</td>\n",
       "    </tr>\n",
       "    <tr>\n",
       "      <th>571077</th>\n",
       "      <td>0.0</td>\n",
       "      <td>0.00000</td>\n",
       "      <td>0.000000</td>\n",
       "      <td>0.176263</td>\n",
       "      <td>0.056009</td>\n",
       "      <td>1.0</td>\n",
       "      <td>0.076923</td>\n",
       "    </tr>\n",
       "  </tbody>\n",
       "</table>\n",
       "</div>"
      ],
      "text/plain": [
       "         title_proximity_tfidf  description_proximity_tfidf  main_query_tfidf  \\\n",
       "789503                     0.0                      0.00000          0.205002   \n",
       "1088493                    0.0                      0.20601          0.000000   \n",
       "182728                     0.0                      0.00000          0.000000   \n",
       "762310                     0.0                      0.00000          0.000000   \n",
       "571077                     0.0                      0.00000          0.000000   \n",
       "\n",
       "         query_jl_score  query_title_score  city_match  job_age_days  \n",
       "789503         0.137679           0.033379         0.0      0.015385  \n",
       "1088493        0.095265           0.037336         0.0      0.307692  \n",
       "182728         0.287300           0.084005         0.0      0.246154  \n",
       "762310         0.150895           0.230420         1.0      0.015385  \n",
       "571077         0.176263           0.056009         1.0      0.076923  "
      ]
     },
     "execution_count": 44,
     "metadata": {},
     "output_type": "execute_result"
    }
   ],
   "source": [
    "X_train.head()"
   ]
  },
  {
   "cell_type": "code",
   "execution_count": 45,
   "id": "d10440b8",
   "metadata": {},
   "outputs": [
    {
     "data": {
      "text/plain": [
       "(116082, 7)"
      ]
     },
     "execution_count": 45,
     "metadata": {},
     "output_type": "execute_result"
    }
   ],
   "source": [
    "X_test.shape"
   ]
  },
  {
   "cell_type": "code",
   "execution_count": 46,
   "id": "19c87526",
   "metadata": {},
   "outputs": [
    {
     "data": {
      "text/plain": [
       "PCA(random_state=42)"
      ]
     },
     "execution_count": 46,
     "metadata": {},
     "output_type": "execute_result"
    }
   ],
   "source": [
    "from sklearn.decomposition import PCA\n",
    "pca = PCA(random_state=42)\n",
    "pca.fit(X_train)"
   ]
  },
  {
   "cell_type": "code",
   "execution_count": 47,
   "id": "d5202ee9",
   "metadata": {},
   "outputs": [
    {
     "data": {
      "text/plain": [
       "array([[ 0.03658239,  0.00875698,  0.05295821,  0.01103367,  0.02615651,\n",
       "        -0.9974741 ,  0.00447027],\n",
       "       [ 0.60475227,  0.13802101,  0.57541445,  0.19371379,  0.45904641,\n",
       "         0.068912  ,  0.17642452],\n",
       "       [ 0.00706656,  0.03171578,  0.29777004, -0.36054105, -0.51585008,\n",
       "         0.00204532,  0.71706473],\n",
       "       [-0.22426906, -0.11780147, -0.39636411,  0.41940597,  0.39593526,\n",
       "        -0.01228871,  0.66776088],\n",
       "       [ 0.0753223 ,  0.9421185 , -0.25100381,  0.14877137, -0.14298557,\n",
       "        -0.00424539,  0.03377222],\n",
       "       [-0.07244517,  0.16829267, -0.16650324, -0.78765906,  0.55990985,\n",
       "        -0.00373987,  0.06918182],\n",
       "       [ 0.75608738, -0.22378731, -0.57410443, -0.11799274, -0.17827587,\n",
       "        -0.01045686,  0.05330382]])"
      ]
     },
     "execution_count": 47,
     "metadata": {},
     "output_type": "execute_result"
    }
   ],
   "source": [
    "pca.components_"
   ]
  },
  {
   "cell_type": "code",
   "execution_count": 48,
   "id": "73d4f1fb",
   "metadata": {},
   "outputs": [
    {
     "data": {
      "text/plain": [
       "array([0.6915078 , 0.1085594 , 0.05819764, 0.05376917, 0.0445618 ,\n",
       "       0.02638482, 0.01701938])"
      ]
     },
     "execution_count": 48,
     "metadata": {},
     "output_type": "execute_result"
    }
   ],
   "source": [
    "pca.explained_variance_ratio_"
   ]
  },
  {
   "cell_type": "code",
   "execution_count": 49,
   "id": "6ba77d25",
   "metadata": {},
   "outputs": [],
   "source": [
    "var_cumu = np.cumsum(pca.explained_variance_ratio_)"
   ]
  },
  {
   "cell_type": "code",
   "execution_count": 50,
   "id": "588893bb",
   "metadata": {},
   "outputs": [
    {
     "data": {
      "image/png": "[encoded data removed]",
      "text/plain": [
       "<Figure size 432x288 with 1 Axes>"
      ]
     },
     "metadata": {
      "needs_background": "light"
     },
     "output_type": "display_data"
    }
   ],
   "source": [
    "#Plotting the graph to identify best possible value for n_components\n",
    "plt.vlines(x=6, ymax=1, ymin=0, colors=\"r\", linestyles=\"--\")\n",
    "plt.hlines(y=1.0, xmax=7, xmin=0, colors=\"g\", linestyles=\"--\")\n",
    "plt.plot(var_cumu)\n",
    "plt.xlabel(\"n_components\")\n",
    "plt.ylabel(\"Cumulative variance explained\")\n",
    "plt.show()"
   ]
  },
  {
   "cell_type": "markdown",
   "id": "3314c323",
   "metadata": {},
   "source": [
    "From the above graph we can say that almost 100% data variance can be explained by 6 components, so we are going to selects n_componets as 6 for PCA"
   ]
  },
  {
   "cell_type": "code",
   "execution_count": 51,
   "id": "08e862ca",
   "metadata": {},
   "outputs": [],
   "source": [
    "from sklearn.decomposition import IncrementalPCA\n",
    "pca_final = IncrementalPCA(n_components=6)\n",
    "X_train_pca = pca_final.fit_transform(X_train)"
   ]
  },
  {
   "cell_type": "code",
   "execution_count": 52,
   "id": "4d73ba3f",
   "metadata": {},
   "outputs": [
    {
     "data": {
      "text/plain": [
       "(1044731, 6)"
      ]
     },
     "execution_count": 52,
     "metadata": {},
     "output_type": "execute_result"
    }
   ],
   "source": [
    "X_train_pca.shape"
   ]
  },
  {
   "cell_type": "code",
   "execution_count": 53,
   "id": "6dd92b96",
   "metadata": {},
   "outputs": [
    {
     "data": {
      "text/plain": [
       "(116082, 7)"
      ]
     },
     "execution_count": 53,
     "metadata": {},
     "output_type": "execute_result"
    }
   ],
   "source": [
    "X_test.shape"
   ]
  },
  {
   "cell_type": "code",
   "execution_count": 54,
   "id": "498a4107",
   "metadata": {},
   "outputs": [
    {
     "data": {
      "text/plain": [
       "(116082, 6)"
      ]
     },
     "execution_count": 54,
     "metadata": {},
     "output_type": "execute_result"
    }
   ],
   "source": [
    "X_test_pca = pca_final.transform(X_test)\n",
    "X_test_pca.shape"
   ]
  },
  {
   "cell_type": "markdown",
   "id": "86d24f40",
   "metadata": {},
   "source": [
    "## Logistic Regression"
   ]
  },
  {
   "cell_type": "code",
   "execution_count": 55,
   "id": "10340e08",
   "metadata": {},
   "outputs": [],
   "source": [
    "from sklearn.linear_model import LogisticRegression"
   ]
  },
  {
   "cell_type": "code",
   "execution_count": 56,
   "id": "8f05592e",
   "metadata": {},
   "outputs": [],
   "source": [
    "learner_pca = LogisticRegression()"
   ]
  },
  {
   "cell_type": "code",
   "execution_count": 57,
   "id": "b4c86f5e",
   "metadata": {},
   "outputs": [],
   "source": [
    "model_pca = learner_pca.fit(X_train_pca, y_train)"
   ]
  },
  {
   "cell_type": "code",
   "execution_count": 58,
   "id": "6f857553",
   "metadata": {},
   "outputs": [],
   "source": [
    "pred_probs_test = model_pca.predict_proba(X_test_pca)"
   ]
  },
  {
   "cell_type": "code",
   "execution_count": 59,
   "id": "11538dd5",
   "metadata": {},
   "outputs": [
    {
     "data": {
      "text/plain": [
       "array([[0.96254945, 0.03745055],\n",
       "       [0.88565302, 0.11434698],\n",
       "       [0.95646229, 0.04353771],\n",
       "       ...,\n",
       "       [0.95743854, 0.04256146],\n",
       "       [0.87886641, 0.12113359],\n",
       "       [0.96746174, 0.03253826]])"
      ]
     },
     "execution_count": 59,
     "metadata": {},
     "output_type": "execute_result"
    }
   ],
   "source": [
    "pred_probs_test"
   ]
  },
  {
   "cell_type": "code",
   "execution_count": 60,
   "id": "931a25d7",
   "metadata": {},
   "outputs": [
    {
     "data": {
      "text/plain": [
       "'0.64'"
      ]
     },
     "execution_count": 60,
     "metadata": {},
     "output_type": "execute_result"
    }
   ],
   "source": [
    "from sklearn import metrics\n",
    "\"{:2.2}\".format(metrics.roc_auc_score(y_test, pred_probs_test[:,1]))"
   ]
  },
  {
   "cell_type": "markdown",
   "id": "4f234f13",
   "metadata": {},
   "source": [
    "# Decision Tree"
   ]
  },
  {
   "cell_type": "code",
   "execution_count": 62,
   "id": "89a47b94",
   "metadata": {},
   "outputs": [],
   "source": [
    "from sklearn.tree import DecisionTreeClassifier"
   ]
  },
  {
   "cell_type": "code",
   "execution_count": 70,
   "id": "5d141c27",
   "metadata": {},
   "outputs": [
    {
     "data": {
      "text/plain": [
       "DecisionTreeClassifier()"
      ]
     },
     "execution_count": 70,
     "metadata": {},
     "output_type": "execute_result"
    }
   ],
   "source": [
    "dt = DecisionTreeClassifier()\n",
    "dt.fit(X_train, y_train)"
   ]
  },
  {
   "cell_type": "code",
   "execution_count": 71,
   "id": "4eda0940",
   "metadata": {},
   "outputs": [],
   "source": [
    "# Importing required packages for visualization\n",
    "from IPython.display import Image  \n",
    "from six import StringIO  \n",
    "from sklearn.tree import export_graphviz\n",
    "import pydotplus, graphviz"
   ]
  },
  {
   "cell_type": "code",
   "execution_count": null,
   "id": "a3f5300f",
   "metadata": {},
   "outputs": [],
   "source": [
    "# plotting tree with max_depth=3\n",
    "dot_data = StringIO()  \n",
    "\n",
    "export_graphviz(dt, out_file=dot_data, filled=True, rounded=True,\n",
    "                feature_names=X.columns, \n",
    "                class_names=['No Job Apply', \"Job Apply\"])\n",
    "\n",
    "graph = pydotplus.graph_from_dot_data(dot_data.getvalue())\n",
    "Image(graph.create_png())\n",
    "#Image(graph.create_png(),width=800,height=900)\n",
    "#graph.write_pdf(\"dt_heartdisease.pdf\")"
   ]
  },
  {
   "cell_type": "code",
   "execution_count": 66,
   "id": "2117e946",
   "metadata": {},
   "outputs": [],
   "source": [
    "y_train_pred = dt.predict(X_train)\n",
    "y_test_pred = dt.predict(X_test)"
   ]
  },
  {
   "cell_type": "code",
   "execution_count": 67,
   "id": "eb8587c7",
   "metadata": {},
   "outputs": [],
   "source": [
    "from sklearn.metrics import confusion_matrix, accuracy_score"
   ]
  },
  {
   "cell_type": "code",
   "execution_count": 68,
   "id": "ae385cc5",
   "metadata": {},
   "outputs": [
    {
     "name": "stdout",
     "output_type": "stream",
     "text": [
      "0.911915124563165\n"
     ]
    },
    {
     "data": {
      "text/plain": [
       "array([[950448,    767],\n",
       "       [ 91258,   2258]], dtype=int64)"
      ]
     },
     "execution_count": 68,
     "metadata": {},
     "output_type": "execute_result"
    }
   ],
   "source": [
    "print(accuracy_score(y_train, y_train_pred))\n",
    "confusion_matrix(y_train, y_train_pred)"
   ]
  },
  {
   "cell_type": "code",
   "execution_count": 69,
   "id": "ee18a649",
   "metadata": {},
   "outputs": [
    {
     "name": "stdout",
     "output_type": "stream",
     "text": [
      "0.9110800985510242\n"
     ]
    },
    {
     "data": {
      "text/plain": [
       "array([[105526,     75],\n",
       "       [ 10247,    234]], dtype=int64)"
      ]
     },
     "execution_count": 69,
     "metadata": {},
     "output_type": "execute_result"
    }
   ],
   "source": [
    "print(accuracy_score(y_test, y_test_pred))\n",
    "confusion_matrix(y_test, y_test_pred)"
   ]
  },
  {
   "cell_type": "code",
   "execution_count": null,
   "id": "b040dd49",
   "metadata": {},
   "outputs": [],
   "source": []
  }
 ],
 "metadata": {
  "kernelspec": {
   "display_name": "Python 3",
   "language": "python",
   "name": "python3"
  },
  "language_info": {
   "codemirror_mode": {
    "name": "ipython",
    "version": 3
   },
   "file_extension": ".py",
   "mimetype": "text/x-python",
   "name": "python",
   "nbconvert_exporter": "python",
   "pygments_lexer": "ipython3",
   "version": "3.8.8"
  }
 },
 "nbformat": 4,
 "nbformat_minor": 5
}
